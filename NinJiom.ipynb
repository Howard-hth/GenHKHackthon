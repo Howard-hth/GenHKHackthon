{
  "nbformat": 4,
  "nbformat_minor": 0,
  "metadata": {
    "colab": {
      "provenance": [],
      "authorship_tag": "ABX9TyP2a4hCPfYgWZSIJMManYsR",
      "include_colab_link": true
    },
    "kernelspec": {
      "name": "python3",
      "display_name": "Python 3"
    },
    "language_info": {
      "name": "python"
    }
  },
  "cells": [
    {
      "cell_type": "markdown",
      "metadata": {
        "id": "view-in-github",
        "colab_type": "text"
      },
      "source": [
        "<a href=\"https://colab.research.google.com/github/Howard-hth/GenHKHackthon/blob/main/NinJiom.ipynb\" target=\"_parent\"><img src=\"https://colab.research.google.com/assets/colab-badge.svg\" alt=\"Open In Colab\"/></a>"
      ]
    },
    {
      "cell_type": "code",
      "source": [
        "sorted_data = {\n",
        "    \"img\": [],\n",
        "    \"category\": [],\n",
        "    \"product\": [],\n",
        "    \"description\": [],\n",
        "    \"ingredient\": [] # (ingredient: purpose)\n",
        "}"
      ],
      "metadata": {
        "id": "n5Q2q6EExsUd"
      },
      "execution_count": 107,
      "outputs": []
    },
    {
      "cell_type": "code",
      "source": [
        "import requests\n",
        "from bs4 import BeautifulSoup\n",
        "import pandas as pd\n",
        "\n",
        "# prepare category map\n",
        "categories = []\n",
        "\n",
        "# URL of the webpage you want to scrape\n",
        "url = 'https://www.ninjiom.com/products/'\n",
        "\n",
        "# Send a GET request to the URL\n",
        "response = requests.get(url)\n",
        "html_content = response.text\n",
        "\n",
        "# Create a BeautifulSoup object\n",
        "soup = BeautifulSoup(html_content, 'html.parser')\n",
        "\n",
        "divs = soup.find_all('div', class_='flex flex-row flex-wrap mb-8 justify-center')\n",
        "for index, div in enumerate(divs):\n",
        "  type_list = div.find_all('a')\n",
        "  type_name = type_list[0]['href'].split(\"/\")[-1].split(\"?\")[0]\n",
        "  if type_name:\n",
        "    categories.append(type_name)\n",
        "print(categories)"
      ],
      "metadata": {
        "colab": {
          "base_uri": "https://localhost:8080/"
        },
        "id": "H4aRqRXZwwYz",
        "outputId": "5d6e2231-d767-4d35-8d1f-eb39ff5f5408"
      },
      "execution_count": 108,
      "outputs": [
        {
          "output_type": "stream",
          "name": "stdout",
          "text": [
            "['pei-pa-koa-series', 'traditional-chinese-medicine-series', 'herbal-candy-series', 'heatiness-clearing-herbal-series', 'tea-pairing-series']\n"
          ]
        }
      ]
    },
    {
      "cell_type": "code",
      "source": [
        "def page_retrival(category, sorted_data):\n",
        "  # Send a GET request to the URL\n",
        "  url = f'https://www.ninjiom.com/products/{category}?product=0'\n",
        "\n",
        "  response = requests.get(url)\n",
        "  html_content = response.text\n",
        "\n",
        "  # Create a BeautifulSoup object\n",
        "  soup = BeautifulSoup(html_content, 'html.parser')\n",
        "\n",
        "  tabs = soup.find_all('div', attrs={'role': 'tabpanel'})\n",
        "  tab_info = []\n",
        "\n",
        "  for tab in tabs:\n",
        "    img = tab.find(\"img\")[\"src\"]\n",
        "    sorted_data[\"img\"].append(img)\n",
        "\n",
        "    div = tab.find('div', class_='product-description px-8 pt-4')\n",
        "    sorted_data[\"category\"].append(category)\n",
        "    sorted_data[\"product\"].append(div.h4.text)\n",
        "    sorted_data[\"description\"].append(div.p.text)\n",
        "\n",
        "    ingredient = tab.find_all('div', class_='h-8 sm:h-12 flex flex-col justify-center')  # Retrieves <p> inside <div>\n",
        "    ingredient_list = []\n",
        "\n",
        "    for index, div in enumerate(ingredient):\n",
        "      if not index % 2:\n",
        "        ingredient_list.append(div.text)\n",
        "      else:\n",
        "        ingredient_list[-1] += f\"({div.text})\"\n",
        "\n",
        "    if ingredient_list:\n",
        "      sorted_data[\"ingredient\"].append(str(ingredient_list))\n",
        "    else:\n",
        "      sorted_data[\"ingredient\"].append('N/A')\n",
        "\n",
        "  return sorted_data\n",
        "\n",
        "# URL of the webpage you want to scrape\n",
        "sorted_data_example = {\n",
        "    \"img\": [],\n",
        "    \"category\": [],\n",
        "    \"product\": [],\n",
        "    \"description\": [],\n",
        "    \"ingredient\": [] # (ingredient: purpose)\n",
        "}\n",
        "\n",
        "sorted_data_example = page_retrival('pei-pa-koa-series', sorted_data_example)\n",
        "print(sorted_data_example)"
      ],
      "metadata": {
        "colab": {
          "base_uri": "https://localhost:8080/"
        },
        "id": "6NXJ5Mgs1PGj",
        "outputId": "1261b9a0-cd40-4570-fa96-221fcc9b64a6"
      },
      "execution_count": 109,
      "outputs": [
        {
          "output_type": "stream",
          "name": "stdout",
          "text": [
            "{'img': ['https://cdn.sanity.io/images/dddbuyhi/production/5a32a051f91c237bfbc4658364bc849c32c85236-1920x799.png', 'https://cdn.sanity.io/images/dddbuyhi/production/5a32a051f91c237bfbc4658364bc849c32c85236-1920x799.png', 'https://cdn.sanity.io/images/dddbuyhi/production/5a32a051f91c237bfbc4658364bc849c32c85236-1920x799.png', 'https://cdn.sanity.io/images/dddbuyhi/production/abed0de18208314f22d3f8d65ecc108f49c72291-4000x1665.png', 'https://cdn.sanity.io/images/dddbuyhi/production/7bde2d8dc274ae4c00478ec92e068e2a9bb77b9b-5401x2251.jpg', 'https://cdn.sanity.io/images/dddbuyhi/production/c8ba76d0d10ce92d39d7ce91a951a84be60480c4-5401x2251.jpg'], 'category': ['pei-pa-koa-series', 'pei-pa-koa-series', 'pei-pa-koa-series', 'pei-pa-koa-series', 'pei-pa-koa-series', 'pei-pa-koa-series'], 'product': ['京都念慈菴蜜煉川貝枇杷膏', '京都念慈菴蜜煉川貝枇杷膏', '京都念慈菴蜜煉川貝枇杷膏', '京都念慈菴蜜煉川貝枇杷膏（便利裝）', '京都念慈菴川貝枇杷膏 - 無糖配方', '京都念慈菴兒童枇杷蜜'], 'description': ['本膏得自清代名醫葉天士真傳，適用於傷風咳嗽、痰多痰稠、氣喘不適、咽喉乾癢及聲音沙啞。可清心降火、潤肺養顏。煙酒過多、睡眠不足、喉痛聲啞，一瓶見效。', '本膏得自清代名醫葉天士真傳，適用於傷風咳嗽、痰多痰稠、氣喘不適、咽喉乾癢及聲音沙啞。可清心降火、潤肺養顏。煙酒過多、睡眠不足、喉痛聲啞，一瓶見效。', '本膏得自清代名醫葉天士真傳，適用於傷風咳嗽、痰多痰稠、氣喘不適、咽喉乾癢及聲音沙啞。可清心降火、潤肺養顏。煙酒過多、睡眠不足、喉痛聲啞，一瓶見效。', '以獨立錫紙包裝，成份和功效與瓶裝枇杷膏相同。無論上班抑或出門旅行，都可以隨身攜帶，而且方便衛生。', '為呼應現代人關注健康的需求，此無添加糖配方特別以麥芽糖醇液代替蜂蜜，適合關注糖分攝取的人士食用。', '嚴選包括魚腥草等多種天然草本及蜂蜜調製而成，保護喉嚨健康，增強免疫力。香甜橙味，蘊含維他命C及無加防腐劑，健康又好味。'], 'ingredient': [\"['川貝母(潤肺止咳)', '枇杷葉(清肺解渴)', '化橘红(散寒利氣)', '桔梗(利咽排膿)', '法半夏(降逆止嘔)', '蜂蜜(潤燥益氣)']\", \"['川貝母(潤肺止咳)', '枇杷葉(清肺解渴)', '化橘红(散寒利氣)', '桔梗(利咽排膿)', '法半夏(降逆止嘔)', '蜂蜜(潤燥益氣)']\", \"['川貝母(潤肺止咳)', '枇杷葉(清肺解渴)', '化橘红(散寒利氣)', '桔梗(利咽排膿)', '法半夏(降逆止嘔)', '蜂蜜(潤燥益氣)']\", \"['化橘红(散寒利氣)', '川貝母(潤肺止咳)', '枇杷葉(清肺解渴)', '桔梗(利咽排膿)', '法半夏(降逆止嘔)', '蜂蜜(潤燥益氣)']\", \"['川貝母(潤肺止咳)', '枇杷葉(清肺解渴)', '化橘红(散寒利氣)', '桔梗(利咽排膿)', '法半夏(降逆止嘔)']\", \"['枇杷葉(清肺解渴)', '百合(養陰潤肺)', '維他命C(增強免疫力)', '西洋參(補氣養陰)', '蜂蜜(潤燥益氣)', '陳皮(理氣健脾)', '魚腥草(清熱解毒)', '黨參(健脾益肺)']\"]}\n"
          ]
        }
      ]
    },
    {
      "cell_type": "code",
      "source": [
        "for category in categories:\n",
        "  sorted_data = page_retrival(category, sorted_data)\n",
        "\n",
        "df = pd.DataFrame(sorted_data).drop_duplicates()\n",
        "df.to_excel(\"NinJiom.xlsx\")"
      ],
      "metadata": {
        "id": "RqgE0HGTxvhz"
      },
      "execution_count": 113,
      "outputs": []
    }
  ]
}